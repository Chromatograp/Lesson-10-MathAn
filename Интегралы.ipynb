{
  "nbformat": 4,
  "nbformat_minor": 0,
  "metadata": {
    "kernelspec": {
      "display_name": "Python 3",
      "language": "python",
      "name": "python3"
    },
    "language_info": {
      "codemirror_mode": {
        "name": "ipython",
        "version": 3
      },
      "file_extension": ".py",
      "mimetype": "text/x-python",
      "name": "python",
      "nbconvert_exporter": "python",
      "pygments_lexer": "ipython3",
      "version": "3.6.0"
    },
    "colab": {
      "name": "Копия 2.3.ipynb",
      "provenance": [],
      "collapsed_sections": []
    }
  },
  "cells": [
    {
      "cell_type": "code",
      "metadata": {
        "colab": {
          "base_uri": "https://localhost:8080/",
          "height": 123
        },
        "id": "YAJyrybSUjAB",
        "outputId": "6907908a-cccf-4323-d4a9-36307436120e"
      },
      "source": [
        "%matplotlib inline\n",
        "import math\n",
        "import sympy\n",
        "from sympy import *\n",
        "\n",
        "print('Задание 1.')\n",
        "\n",
        "init_printing()\n",
        "\n",
        "x = symbols('x')\n",
        "\n",
        "f = (2 * x**2 - 2 * x - 1 + sin(x) - cos(x) + log(x) + math.e**x)\n",
        "print('Выражение:')\n",
        "print('2x^2-2x-1+sinx-cosx+lnx+e^x')\n",
        "print('Неопределенный интеграл выражения:')\n",
        "integrate(f, x)\n"
      ],
      "execution_count": 1,
      "outputs": [
        {
          "output_type": "stream",
          "text": [
            "Задание 1.\n",
            "Выражение:\n",
            "2x^2-2x-1+sinx-cosx+lnx+e^x\n",
            "Неопределенный интеграл выражения:\n"
          ],
          "name": "stdout"
        },
        {
          "output_type": "execute_result",
          "data": {
            "image/png": "[encoded data removed]",
            "text/latex": "$\\displaystyle 1.0 \\cdot 2.71828182845905^{x} + \\frac{2 x^{3}}{3} - x^{2} + x \\log{\\left(x \\right)} - 2 x - \\sin{\\left(x \\right)} - \\cos{\\left(x \\right)}$",
            "text/plain": [
              "                           3                                        \n",
              "                    x   2⋅x     2                                   \n",
              "1.0⋅2.71828182845905  + ──── - x  + x⋅log(x) - 2⋅x - sin(x) - cos(x)\n",
              "                         3                                          "
            ]
          },
          "metadata": {
            "tags": []
          },
          "execution_count": 1
        }
      ]
    },
    {
      "cell_type": "code",
      "metadata": {
        "colab": {
          "base_uri": "https://localhost:8080/",
          "height": 123
        },
        "id": "e3178E00Emyg",
        "outputId": "98b70144-c1f1-41ff-9d25-9a94b782d04d"
      },
      "source": [
        "print('Задание 2.')\n",
        "\n",
        "x, y, z = symbols('x y z')\n",
        "\n",
        "f = (2 * x + 6 * x * z**2 - 5 * x**2 * y - 3 * log(z))\n",
        "\n",
        "print('Уравнение:')\n",
        "print('2x+6xz^2-5x^2y-3lnz')\n",
        "print(\"Неопределенный интеграл выражения:\")\n",
        "integrate(f, x)"
      ],
      "execution_count": 22,
      "outputs": [
        {
          "output_type": "stream",
          "text": [
            "Задание 2.\n",
            "Уравнение:\n",
            "2x+6xz^2-5x^2y-3lnz\n",
            "Неопределенный интеграл выражения:\n"
          ],
          "name": "stdout"
        },
        {
          "output_type": "execute_result",
          "data": {
            "image/png": "[encoded data removed]",
            "text/latex": "$\\displaystyle - \\frac{5 x^{3} y}{3} + x^{2} \\left(3 z^{2} + 1\\right) - 3 x \\log{\\left(z \\right)}$",
            "text/plain": [
              "     3                               \n",
              "  5⋅x ⋅y    2 ⎛   2    ⎞             \n",
              "- ────── + x ⋅⎝3⋅z  + 1⎠ - 3⋅x⋅log(z)\n",
              "    3                                "
            ]
          },
          "metadata": {
            "tags": []
          },
          "execution_count": 22
        }
      ]
    },
    {
      "cell_type": "code",
      "metadata": {
        "id": "sLbbUK7dJtC9",
        "colab": {
          "base_uri": "https://localhost:8080/",
          "height": 89
        },
        "outputId": "3876436b-1a96-4b28-e81c-f51eeff0595f"
      },
      "source": [
        "print('Задание 3.')\n",
        "\n",
        "x = symbols('x')\n",
        "\n",
        "f = (3 * x**2 * sin(2 * x))\n",
        "\n",
        "print('Уравнение: 3x^2sin2x')\n",
        "print('Определенный интеграл с границами пи и 0:')\n",
        "integrate(f, (x, pi, 1))"
      ],
      "execution_count": 15,
      "outputs": [
        {
          "output_type": "stream",
          "text": [
            "Уравнение: 3x^2sin2x\n",
            "Определенный интеграл с границами пи и 0:\n"
          ],
          "name": "stdout"
        },
        {
          "output_type": "execute_result",
          "data": {
            "image/png": "[encoded data removed]",
            "text/latex": "$\\displaystyle - \\frac{3}{4} - \\frac{3 \\cos{\\left(2 \\right)}}{4} + \\frac{3 \\sin{\\left(2 \\right)}}{2} + \\frac{3 \\pi^{2}}{2}$",
            "text/plain": [
              "                               2\n",
              "  3   3⋅cos(2)   3⋅sin(2)   3⋅π \n",
              "- ─ - ──────── + ──────── + ────\n",
              "  4      4          2        2  "
            ]
          },
          "metadata": {
            "tags": []
          },
          "execution_count": 15
        }
      ]
    },
    {
      "cell_type": "code",
      "metadata": {
        "colab": {
          "base_uri": "https://localhost:8080/",
          "height": 89
        },
        "id": "FN73HFWLHyPS",
        "outputId": "172157a2-4d44-4bd8-e5d3-a29465c0b3bd"
      },
      "source": [
        "print('Задание 4.')\n",
        "\n",
        "x = symbols('x')\n",
        "\n",
        "f = 1/(sqrt(x + 1))\n",
        "\n",
        "print('Уравнение: 1/(sqrt(x + 1))')\n",
        "print('Определенный интеграл с границами пи и 0:')\n",
        "integrate(f, x)"
      ],
      "execution_count": 16,
      "outputs": [
        {
          "output_type": "stream",
          "text": [
            "Задание 4.\n",
            "Уравнение: 1/(sqrt(x + 1))\n",
            "Определенный интеграл с границами пи и 0:\n"
          ],
          "name": "stdout"
        },
        {
          "output_type": "execute_result",
          "data": {
            "image/png": "[encoded data removed]",
            "text/latex": "$\\displaystyle 2 \\sqrt{x + 1}$",
            "text/plain": [
              "    _______\n",
              "2⋅╲╱ x + 1 "
            ]
          },
          "metadata": {
            "tags": []
          },
          "execution_count": 16
        }
      ]
    }
  ]
}